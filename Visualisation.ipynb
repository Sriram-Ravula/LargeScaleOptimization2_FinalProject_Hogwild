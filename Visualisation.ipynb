{
 "cells": [
  {
   "cell_type": "code",
   "execution_count": 2,
   "metadata": {},
   "outputs": [],
   "source": [
    "import pandas as pd\n",
    "import numpy as np\n",
    "import os"
   ]
  },
  {
   "cell_type": "code",
   "execution_count": 37,
   "metadata": {},
   "outputs": [
    {
     "name": "stdout",
     "output_type": "stream",
     "text": [
      "F:\\data\\hogwild_linearregression_1k-10k-0200-r\n",
      "(100, 10000)\n"
     ]
    },
    {
     "name": "stderr",
     "output_type": "stream",
     "text": [
      "C:\\Users\\Sriram\\Anaconda3\\lib\\site-packages\\ipykernel_launcher.py:16: FutureWarning: currently extract(expand=None) means expand=False (return Index/Series/DataFrame) but in a future version of pandas this will be changed to expand=True (return DataFrame)\n",
      "  app.launch_new_instance()\n",
      "C:\\Users\\Sriram\\Anaconda3\\lib\\site-packages\\ipykernel_launcher.py:17: FutureWarning: currently extract(expand=None) means expand=False (return Index/Series/DataFrame) but in a future version of pandas this will be changed to expand=True (return DataFrame)\n"
     ]
    }
   ],
   "source": [
    "log = \"log_\"\n",
    "threads = \"threads.csv\"\n",
    "\n",
    "samp_coord = [\"1k-1k\", \"10k-1k\", \"1k-10k\"]\n",
    "sparsities = [\"0005\", \"0010\", \"0200\", \"1000\"]\n",
    "hw = \"hogwild\"\n",
    "es = \"exampleshared\"\n",
    "ei = \"exampleindependent\"\n",
    "sh = \"segmentedhogwild\"\n",
    "\n",
    "subfolders = [f.path for f in os.scandir(\"F:\\data\") if f.is_dir() ]\n",
    "print(subfolders[30])\n",
    "\n",
    "df = pd.read_csv(subfolders[30] + \"\\\\\" + log + str(1) + threads)\n",
    "times = df.iloc[:,0].values\n",
    "df.iloc[:, 1] = df.iloc[:, 1].astype(str).str.extract('(\\d+)').astype(float)\n",
    "df.iloc[:, -1] = df.iloc[:, -1].astype(str).str.extract('(\\d+)').astype(float)\n",
    "iterates = df.iloc[:, 1:].values\n",
    "print(iterates.shape)"
   ]
  },
  {
   "cell_type": "code",
   "execution_count": null,
   "metadata": {},
   "outputs": [],
   "source": []
  }
 ],
 "metadata": {
  "kernelspec": {
   "display_name": "Python 3",
   "language": "python",
   "name": "python3"
  },
  "language_info": {
   "codemirror_mode": {
    "name": "ipython",
    "version": 3
   },
   "file_extension": ".py",
   "mimetype": "text/x-python",
   "name": "python",
   "nbconvert_exporter": "python",
   "pygments_lexer": "ipython3",
   "version": "3.6.5"
  }
 },
 "nbformat": 4,
 "nbformat_minor": 2
}
